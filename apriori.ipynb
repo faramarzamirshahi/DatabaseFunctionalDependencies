{
 "cells": [
  {
   "cell_type": "code",
   "execution_count": 1,
   "metadata": {},
   "outputs": [],
   "source": [
    "# store the item sets as tuples of strings in a list\n",
    "transactions = [\n",
    "    (\"beer\", \"wine\", \"cheese\"),\n",
    "    (\"beer\", \"potato chips\"),\n",
    "    (\"eggs\", \"flour\", \"butter\", \"cheese\"),\n",
    "    (\"eggs\", \"flour\", \"butter\", \"beer\", \"potato chips\"),\n",
    "    (\"wine\", \"cheese\"),\n",
    "    (\"potato chips\"),\n",
    "    (\"eggs\", \"flour\", \"butter\", \"wine\", \"cheese\"),\n",
    "    (\"eggs\", \"flour\", \"butter\", \"beer\", \"potato chips\"),\n",
    "    (\"wine\", \"beer\"),\n",
    "    (\"beer\", \"potato chips\"),\n",
    "    (\"butter\", \"eggs\"),\n",
    "    (\"beer\", \"potato chips\"),\n",
    "    (\"flour\", \"eggs\"),\n",
    "    (\"beer\", \"potato chips\"),\n",
    "    (\"eggs\", \"flour\", \"butter\", \"wine\", \"cheese\"),\n",
    "    (\"beer\", \"wine\", \"potato chips\", \"cheese\"),\n",
    "    (\"wine\", \"cheese\"),\n",
    "    (\"beer\", \"potato chips\"),\n",
    "    (\"wine\", \"cheese\"),\n",
    "    (\"beer\", \"potato chips\"),\n",
    "]"
   ]
  },
  {
   "cell_type": "code",
   "execution_count": 2,
   "metadata": {},
   "outputs": [],
   "source": [
    "from efficient_apriori import apriori\n",
    "\n",
    "# our min support is 7, but it has to be expressed as a percentage for efficient-apriori\n",
    "min_support = 7/len(transactions) \n",
    "\n",
    "# min confidence allows you to delete rules with low confidence.\n",
    "# For now set min_confidence = 0 to obtain all the rules\n",
    "min_confidence = 0\n",
    "itemsets, rules = apriori(transactions, min_support=min_support, min_confidence=min_confidence)"
   ]
  },
  {
   "cell_type": "code",
   "execution_count": 3,
   "metadata": {},
   "outputs": [
    {
     "name": "stdout",
     "output_type": "stream",
     "text": [
      "[{potato chips} -> {beer}, {beer} -> {potato chips}, {wine} -> {cheese}, {cheese} -> {wine}]\n"
     ]
    }
   ],
   "source": [
    "print(rules)"
   ]
  },
  {
   "cell_type": "code",
   "execution_count": 4,
   "metadata": {},
   "outputs": [
    {
     "name": "stdout",
     "output_type": "stream",
     "text": [
      "{1: {('beer',): 11, ('wine',): 8, ('cheese',): 8, ('potato chips',): 9, ('eggs',): 7}, 2: {('beer', 'potato chips'): 9, ('cheese', 'wine'): 7}}\n"
     ]
    }
   ],
   "source": [
    "print(itemsets)"
   ]
  },
  {
   "cell_type": "code",
   "execution_count": 5,
   "metadata": {},
   "outputs": [
    {
     "name": "stdout",
     "output_type": "stream",
     "text": [
      "{potato chips} -> {beer} (conf: 1.000, supp: 0.450, lift: 1.818, conv: 450000000.000)\n",
      "{beer} -> {potato chips} (conf: 0.818, supp: 0.450, lift: 1.818, conv: 3.025)\n",
      "{wine} -> {cheese} (conf: 0.875, supp: 0.350, lift: 2.188, conv: 4.800)\n",
      "{cheese} -> {wine} (conf: 0.875, supp: 0.350, lift: 2.188, conv: 4.800)\n"
     ]
    }
   ],
   "source": [
    "for rule in rules:\n",
    "  print(rule)"
   ]
  },
  {
   "cell_type": "code",
   "execution_count": 8,
   "metadata": {},
   "outputs": [
    {
     "name": "stdout",
     "output_type": "stream",
     "text": [
      "{apple, eggs} -> {bacon} (conf: 1.000, supp: 0.333, lift: 1.000, conv: 0.000)\n",
      "{banana, soup} -> {bacon} (conf: 1.000, supp: 0.333, lift: 1.000, conv: 0.000)\n",
      "{eggs, soup} -> {bacon} (conf: 1.000, supp: 0.333, lift: 1.000, conv: 0.000)\n",
      "{apple, bacon} -> {eggs} (conf: 1.000, supp: 0.333, lift: 1.500, conv: 333333333.333)\n",
      "{bacon, banana} -> {soup} (conf: 1.000, supp: 0.333, lift: 1.500, conv: 333333333.333)\n"
     ]
    }
   ],
   "source": [
    "from efficient_apriori import apriori\n",
    "transactions = [('eggs', 'bacon', 'soup'),\n",
    "                ('eggs', 'bacon', 'apple'),\n",
    "                ('soup', 'bacon', 'banana')]\n",
    "itemsets, rules = apriori(transactions, min_support=0.2, min_confidence=1)\n",
    "\n",
    "# Print out every rule with 2 items on the left hand side,\n",
    "# 1 item on the right hand side, sorted by lift\n",
    "rules_rhs = filter(lambda rule: len(rule.lhs) == 2 and len(rule.rhs) == 1, rules)\n",
    "for rule in sorted(rules_rhs, key=lambda rule: rule.lift):\n",
    "  print(rule)"
   ]
  },
  {
   "cell_type": "code",
   "execution_count": 9,
   "metadata": {},
   "outputs": [
    {
     "name": "stdout",
     "output_type": "stream",
     "text": [
      "{1: {('eggs',): ItemsetCount(itemset_count=2, members={0, 1}), ('bacon',): ItemsetCount(itemset_count=3, members={0, 1, 2}), ('soup',): ItemsetCount(itemset_count=2, members={0, 2})}, 2: {('bacon', 'eggs'): ItemsetCount(itemset_count=2, members={0, 1}), ('bacon', 'soup'): ItemsetCount(itemset_count=2, members={0, 2})}}\n"
     ]
    }
   ],
   "source": [
    "from efficient_apriori import apriori\n",
    "transactions = [('eggs', 'bacon', 'soup'),\n",
    "                ('eggs', 'bacon', 'apple'),\n",
    "                ('soup', 'bacon', 'banana')]\n",
    "itemsets, rules = apriori(transactions, output_transaction_ids=True)\n",
    "print(itemsets)"
   ]
  }
 ],
 "metadata": {
  "interpreter": {
   "hash": "7cb1fd5a0f6d15625e1fbde14a3786727b52c242e17bd77f354c9e1c219afb91"
  },
  "kernelspec": {
   "display_name": "Python 3.8.3 64-bit ('base': conda)",
   "language": "python",
   "name": "python3"
  },
  "language_info": {
   "codemirror_mode": {
    "name": "ipython",
    "version": 3
   },
   "file_extension": ".py",
   "mimetype": "text/x-python",
   "name": "python",
   "nbconvert_exporter": "python",
   "pygments_lexer": "ipython3",
   "version": "3.8.3"
  },
  "orig_nbformat": 4
 },
 "nbformat": 4,
 "nbformat_minor": 2
}
